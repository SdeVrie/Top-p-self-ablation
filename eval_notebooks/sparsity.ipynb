{
 "cells": [
  {
   "cell_type": "code",
   "execution_count": 22,
   "metadata": {},
   "outputs": [
    {
     "name": "stdout",
     "output_type": "stream",
     "text": [
      "The autoreload extension is already loaded. To reload it, use:\n",
      "  %reload_ext autoreload\n"
     ]
    }
   ],
   "source": [
    "%load_ext autoreload\n",
    "%autoreload 2\n",
    "\n",
    "import json\n",
    "import pandas as pd\n",
    "import os, sys\n",
    "import wandb\n",
    "import numpy as np\n",
    "from tqdm.notebook import tqdm\n",
    "import torch\n",
    "\n",
    "device = torch.device(\"cuda\" if torch.cuda.is_available() else \"cpu\")\n",
    "\n",
    "# Add the directory containing the utils folder to the system path\n",
    "sys.path.append(os.path.abspath(os.path.join(os.getcwd(), '..')))\n",
    "\n",
    "from utils.testing import *\n",
    "from utils.compatibility import *"
   ]
  },
  {
   "cell_type": "code",
   "execution_count": 2,
   "metadata": {},
   "outputs": [],
   "source": [
    "all_model_runs = access_wandb_runs(filters=None)\n",
    "\n",
    "# Baseline\n",
    "baseline_run = None\n",
    "for run in all_model_runs: # Hacky\n",
    "    if run.name == \"no-ablation-baseline\":\n",
    "        baseline_run = run\n",
    "        break\n",
    "\n",
    "all_model_runs = list(access_wandb_runs())\n",
    "all_model_runs.append(baseline_run)"
   ]
  },
  {
   "cell_type": "code",
   "execution_count": 25,
   "metadata": {},
   "outputs": [
    {
     "data": {
      "application/vnd.jupyter.widget-view+json": {
       "model_id": "11c2d5d1ff3e4a56a5e92e4a76896993",
       "version_major": 2,
       "version_minor": 0
      },
      "text/plain": [
       "VBox(children=(Processing runs:   0%|          | 0/19 [00:00<?, ?it/s],))"
      ]
     },
     "metadata": {},
     "output_type": "display_data"
    },
    {
     "name": "stderr",
     "output_type": "stream",
     "text": [
      "/mnt/c/Dev Projects/Projects/self-ablating-transformers/utils/testing.py:64: FutureWarning: You are using `torch.load` with `weights_only=False` (the current default value), which uses the default pickle module implicitly. It is possible to construct malicious pickle data which will execute arbitrary code during unpickling (See https://github.com/pytorch/pytorch/blob/main/SECURITY.md#untrusted-models for more details). In a future release, the default value for `weights_only` will be flipped to `True`. This limits the functions that could be executed during unpickling. Arbitrary objects will no longer be allowed to be loaded via this mode unless they are explicitly allowlisted by the user via `torch.serialization.add_safe_globals`. We recommend you start setting `weights_only=True` for any use case where you don't have full control of the loaded file. Please open an issue on GitHub for any issues related to this experimental feature.\n",
      "  state_dict = torch.load(model_path, map_location=device)\n",
      "/home/jazhyc/miniconda3/envs/ablation/lib/python3.11/site-packages/transformers/tokenization_utils_base.py:1601: FutureWarning: `clean_up_tokenization_spaces` was not set. It will be set to `True` by default. This behavior will be depracted in transformers v4.45, and will be then set to `False` by default. For more details check this issue: https://github.com/huggingface/transformers/issues/31884\n",
      "  warnings.warn(\n"
     ]
    },
    {
     "name": "stdout",
     "output_type": "stream",
     "text": [
      "Total params: 14535249\n",
      "Sparsity for fanciful-fog-78: 0.5079001230888454\n",
      "Total params: 14535249\n",
      "Sparsity for earnest-moon-79: 0.49274002756728513\n",
      "Total params: 14535249\n",
      "Sparsity for super-violet-80: 0.4491382072778325\n",
      "Total params: 14535249\n",
      "Sparsity for upbeat-glitter-83: 0.4840176044147763\n",
      "Total params: 14535249\n",
      "Sparsity for comfy-cherry-84: 0.5096039813089864\n",
      "Total params: 14535249\n",
      "Sparsity for cosmic-leaf-81-part2: 0.7264284916635614\n",
      "Total params: 14535249\n",
      "Sparsity for major-planet-86-part3: 0.5497045706686333\n",
      "Total params: 14535249\n",
      "Sparsity for light-morning-92: 0.48502937303143484\n",
      "Total params: 14535249\n",
      "Sparsity for deft-dew-98-part2: 0.4616967345049077\n",
      "Total params: 14535249\n",
      "Sparsity for solar-vortex-103: 0.6705695693077797\n",
      "Total params: 14535249\n",
      "Sparsity for peachy-paper-104: 0.4833880563181032\n",
      "Total params: 14535249\n",
      "Sparsity for valiant-music-105: 0.4722006684907407\n",
      "Total params: 14535249\n",
      "Sparsity for usual-silence-107: 0.7088659383143451\n",
      "Total params: 14535249\n",
      "Sparsity for amber-waterfall-109: 0.7420592608676828\n",
      "Total params: 14535249\n",
      "Sparsity for eager-moon-110: 0.7603743732124579\n",
      "Total params: 14535249\n",
      "Sparsity for solar-smoke-111: 0.7173483798681917\n",
      "Total params: 14535249\n",
      "Sparsity for helpful-dust-112-part2: 0.6167922907730092\n",
      "Total params: 14535249\n",
      "Sparsity for distinctive-yogurt-117: 0.7018673674957814\n",
      "Total params: 14535249\n",
      "Sparsity for no-ablation-baseline: 0.4418927031801491\n"
     ]
    }
   ],
   "source": [
    "def get_l1_sparsity(model):\n",
    "    \"\"\"\n",
    "    Calculate L1 sparsity skipping embedding matrices (wte, wpe)\n",
    "    \"\"\"\n",
    "    total_params = 0\n",
    "    l1_sum = 0.0\n",
    "    \n",
    "    for name, param in model.named_parameters():\n",
    "        # Skip embedding matrices\n",
    "        if 'wte' in name or 'wpe' in name:\n",
    "            continue\n",
    "            \n",
    "        total_params += param.numel()\n",
    "        l1_sum += torch.sum(torch.abs(param.data)).item()\n",
    "    \n",
    "    # Normalize by parameter count\n",
    "    l1_sparsity = (l1_sum / total_params)\n",
    "    print(f\"Total params: {total_params}\")\n",
    "    return l1_sparsity\n",
    "\n",
    "for run in tqdm(all_model_runs, desc=\"Processing runs\"):\n",
    "    \n",
    "    model_dir = f\"../model_weights/{run.name}\"\n",
    "    \n",
    "    ablated_trained_model = load_our_model(model_dir, device=device)\n",
    "    hooked_model = convert_model_to_hooked_transformer(ablated_trained_model)\n",
    "    \n",
    "    sparsity = get_l1_sparsity(hooked_model)\n",
    "    print(f\"Sparsity for {run.name}: {sparsity}\")\n",
    "    update_run(run, {\"l1_sparsity\": sparsity})\n"
   ]
  },
  {
   "cell_type": "markdown",
   "metadata": {},
   "source": [
    "Welp. Time to rewrite the paper"
   ]
  }
 ],
 "metadata": {
  "kernelspec": {
   "display_name": "ablation",
   "language": "python",
   "name": "python3"
  },
  "language_info": {
   "codemirror_mode": {
    "name": "ipython",
    "version": 3
   },
   "file_extension": ".py",
   "mimetype": "text/x-python",
   "name": "python",
   "nbconvert_exporter": "python",
   "pygments_lexer": "ipython3",
   "version": "3.11.9"
  }
 },
 "nbformat": 4,
 "nbformat_minor": 2
}
